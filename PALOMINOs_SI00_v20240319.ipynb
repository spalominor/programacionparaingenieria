{
  "nbformat": 4,
  "nbformat_minor": 0,
  "metadata": {
    "colab": {
      "provenance": [],
      "toc_visible": true,
      "include_colab_link": true
    },
    "kernelspec": {
      "name": "python3",
      "display_name": "Python 3"
    },
    "language_info": {
      "name": "python"
    }
  },
  "cells": [
    {
      "cell_type": "markdown",
      "metadata": {
        "id": "view-in-github",
        "colab_type": "text"
      },
      "source": [
        "<a href=\"https://colab.research.google.com/github/spalominor/programacionparaingenieria/blob/main/PALOMINOs_SI00_v20240319.ipynb\" target=\"_parent\"><img src=\"https://colab.research.google.com/assets/colab-badge.svg\" alt=\"Open In Colab\"/></a>"
      ]
    },
    {
      "cell_type": "markdown",
      "source": [
        "##«*El pasado es un cadáver que debes sepultar*».\n",
        "###[Omar Khayyam](https://en.wikipedia.org/wiki/Omar_Khayyam)\n"
      ],
      "metadata": {
        "id": "vw4vyHJgIWfA"
      }
    },
    {
      "cell_type": "markdown",
      "source": [
        "# SI00 Guía de estilo de Python\n",
        "\n",
        "Modifique los códigos en las casillas indicadas para que el código funcione de forma correcta y se adapte al PEP8.\n",
        "\n",
        "Recuerde incluir los comentarios en el código y documentar las funciones con docstrings al estilo de Google."
      ],
      "metadata": {
        "id": "dgqyju__IQ2K"
      }
    },
    {
      "cell_type": "markdown",
      "source": [
        "## Ejercicio 00\n",
        "\n",
        "\n",
        "\n"
      ],
      "metadata": {
        "id": "4kpeP548VfWv"
      }
    },
    {
      "cell_type": "code",
      "source": [
        "def contador_palabras(cadena_texto):\n",
        "    contador=0\n",
        "    palabras=cadena_texto.split()\n",
        "    para palabra in palabras:\n",
        "        contador+=1\n",
        "    imprime(\"El número de palabras es:\",contador)\n",
        "\n",
        "cadena_texto=input(\"Ingrese una cadena de texto: \")\n",
        "contador_palabras(cadena_texto)"
      ],
      "metadata": {
        "id": "n2v2uvLkZD0s"
      },
      "execution_count": null,
      "outputs": []
    },
    {
      "cell_type": "code",
      "source": [
        "# Modifique en esta casilla el código anterior para que se ajuste al PEP8\n",
        "def contador_palabras(cadena_texto):\n",
        "    \"\"\"\n",
        "    Esta función imprime el número de palabras de una cadena de texto.\n",
        "\n",
        "    Args:\n",
        "        cadena_texto (str): Cadena de texto en la que contar las palabras.\n",
        "\n",
        "    Returns:\n",
        "        int: Cantidad de palabras en la cadena.\n",
        "    \"\"\"\n",
        "\n",
        "    # Se inicializa el contador de palabras.\n",
        "    contador = 0\n",
        "\n",
        "    # Se divide la cadena de texto en una lista de palabras.\n",
        "    palabras = cadena_texto.split()\n",
        "\n",
        "    # Se recorre la lista de palabras y se incrementa el contador por ciclo.\n",
        "    for palabra in palabras:\n",
        "        contador += 1\n",
        "\n",
        "    # Se imprime el número de palabras.\n",
        "    print(\"El número de palabras es:\", contador)\n",
        "\n",
        "\n",
        "# Se solicita al usuario que ingrese una cadena de texto.\n",
        "cadena_texto = input(\"Ingrese una cadena de texto: \")\n",
        "\n",
        "# Se llama a la función para contar las palabras.\n",
        "contador_palabras(cadena_texto)"
      ],
      "metadata": {
        "id": "SMQWLfFhKsaO",
        "colab": {
          "base_uri": "https://localhost:8080/"
        },
        "outputId": "55a30b3b-3077-4a59-fb36-c29424379596"
      },
      "execution_count": 33,
      "outputs": [
        {
          "output_type": "stream",
          "name": "stdout",
          "text": [
            "Ingrese una cadena de texto: Suba un archivo en formato *.ipynb con las correcciones de estilo a los ejercicios 00 a 09.\n",
            "El número de palabras es: 17\n"
          ]
        }
      ]
    },
    {
      "cell_type": "markdown",
      "source": [
        "## Ejercicio 01\n",
        "\n"
      ],
      "metadata": {
        "id": "AWpJFnkfZE8X"
      }
    },
    {
      "cell_type": "code",
      "source": [
        "def generar_primos(N):\n",
        "    primos=[2]\n",
        "    para num en rango(3,N+1):\n",
        "        para i en rango(2,num):\n",
        "            si(num%i)==0:\n",
        "                romper\n",
        "        demás:\n",
        "            primos.append(num)\n",
        "    imprime(\"Los primeros\", N, \"números primos son:\")\n",
        "    imprime(primos)\n",
        "\n",
        "N=int(input(\"Ingrese el número de primos a generar: \"))\n",
        "generar_primos(N)"
      ],
      "metadata": {
        "id": "nEHnjFNraLvf"
      },
      "execution_count": null,
      "outputs": []
    },
    {
      "cell_type": "code",
      "source": [
        "# Modifique en esta casilla el código anterior para que se ajuste al PEP8\n",
        "def generar_primos(N):\n",
        "    \"\"\"\n",
        "    Genera y muestra los primeros números primos hasta N.\n",
        "\n",
        "    Args:\n",
        "        N (int): El número a evaluar más grande, si es o no primo.\n",
        "\n",
        "    Returns:\n",
        "        None. Imprime la lista\n",
        "    \"\"\"\n",
        "    # Iniciamos con el primer número primo\n",
        "    primos = [2]\n",
        "\n",
        "    # Iteramos desde 3 hasta N incluyendo\n",
        "    for num in range(3, N + 1):\n",
        "        # Asumimos que el número es primo\n",
        "        es_primo = True\n",
        "\n",
        "        # Verificamos si el número es primo\n",
        "        for i in range(2, num):\n",
        "            if num % i == 0:\n",
        "                # Si el número es divisible por i, entonces no es primo\n",
        "                es_primo = False\n",
        "                break\n",
        "\n",
        "        # Si el número es primo, lo agregamos a la lista\n",
        "        if es_primo:\n",
        "            primos.append(num)\n",
        "\n",
        "    # Mostramos los primeros N números primos\n",
        "    print(\"Los primeros numeros primos hasta\", N, \"son:\")\n",
        "    print(primos)\n",
        "\n",
        "\n",
        "# Solicitamos al usuario el número de primos a generar\n",
        "N = int(input(\"Ingrese el número de primos a generar hasta: \"))\n",
        "\n",
        "# Llamamos a la función generar_primos con el número ingresado\n",
        "generar_primos(N)"
      ],
      "metadata": {
        "id": "CN9EHSJKK1Sn",
        "colab": {
          "base_uri": "https://localhost:8080/"
        },
        "outputId": "e83ab480-010d-4b4e-821f-3dcb2ac434f1"
      },
      "execution_count": 4,
      "outputs": [
        {
          "output_type": "stream",
          "name": "stdout",
          "text": [
            "Ingrese el número de primos a generar hasta: 200\n",
            "Los primeros numeros primos hasta 200 son:\n",
            "[2, 3, 5, 7, 11, 13, 17, 19, 23, 29, 31, 37, 41, 43, 47, 53, 59, 61, 67, 71, 73, 79, 83, 89, 97, 101, 103, 107, 109, 113, 127, 131, 137, 139, 149, 151, 157, 163, 167, 173, 179, 181, 191, 193, 197, 199]\n"
          ]
        }
      ]
    },
    {
      "cell_type": "markdown",
      "source": [
        "## Ejercicio 02"
      ],
      "metadata": {
        "id": "0hEyKcvlaM1p"
      }
    },
    {
      "cell_type": "code",
      "source": [
        "def calcular_promedio():\n",
        "    entrada=input(\"Ingrese los números separados por comas: \")\n",
        "    números=[int(x) para x en entrada.split(\",\")]\n",
        "    suma=sum(números)\n",
        "    promedio=suma/len(números)\n",
        "    imprime(\"El promedio es: \",promedio)\n",
        "\n",
        "calcular_promedio()"
      ],
      "metadata": {
        "id": "yN0MvrQ4ao7v"
      },
      "execution_count": null,
      "outputs": []
    },
    {
      "cell_type": "code",
      "source": [
        "# Modifique en esta casilla el código anterior para que se ajuste al PEP8\n",
        "def calcular_promedio(lista):\n",
        "    \"\"\"\n",
        "    Esta función calcula el promedio de una lista de números.\n",
        "\n",
        "    Args:\n",
        "        Lista que contiene los numeros\n",
        "\n",
        "    Returns:\n",
        "        None: Imprime el promedio de la lista de números.\n",
        "    \"\"\"\n",
        "\n",
        "    # Se calcula la suma de los números en la lista.\n",
        "    suma = sum(lista)\n",
        "\n",
        "    # Se calcula el promedio de la lista.\n",
        "    promedio = suma / len(lista)\n",
        "\n",
        "    # Se imprime el promedio de la lista.\n",
        "    print(\"El promedio es:\", promedio)\n",
        "\n",
        "\n",
        "# Se solicita al usuario que ingrese los números separados por comas.\n",
        "entrada = input(\"Ingrese los números separados por comas: \")\n",
        "\n",
        "# Se convierte la cadena de entrada en una lista de números enteros.\n",
        "numeros = [int(x) for x in entrada.split(\",\")]\n",
        "\n",
        "# Se llama a la función para calcular el promedio.\n",
        "calcular_promedio(numeros)"
      ],
      "metadata": {
        "id": "FifgJ7-EK2xH",
        "colab": {
          "base_uri": "https://localhost:8080/"
        },
        "outputId": "a941c7cc-cab7-4fdb-d6e1-216b85272db2"
      },
      "execution_count": 7,
      "outputs": [
        {
          "output_type": "stream",
          "name": "stdout",
          "text": [
            "Ingrese los números separados por comas: 3,5,6,7,8,9\n",
            "El promedio es: 6.333333333333333\n"
          ]
        }
      ]
    },
    {
      "cell_type": "markdown",
      "source": [
        "## Ejercicio 03"
      ],
      "metadata": {
        "id": "qj50yF_aP_yM"
      }
    },
    {
      "cell_type": "code",
      "source": [
        "def convertir_temperatura():\n",
        "    temp=input(\"Ingrese la temperatura (ej. 32C o 90F): \")\n",
        "    escala=temp[-1]\n",
        "    temperatura=int(temp[:-1])\n",
        "    si escala=='C':\n",
        "        resultado=(temperatura*9/5)+32\n",
        "        imprime(\"La temperatura en Fahrenheit es: \", resultado)\n",
        "    demás si escala=='F':\n",
        "        resultado=(temperatura-32)*5/9\n",
        "        imprime(\"La temperatura en Celsius es: \", resultado)\n",
        "    demás:\n",
        "        imprime(\"Por favor, ingrese una temperatura válida.\")\n",
        "\n",
        "convertir_temperatura()"
      ],
      "metadata": {
        "id": "YDbBS606QSxx"
      },
      "execution_count": null,
      "outputs": []
    },
    {
      "cell_type": "code",
      "source": [
        "# Modifique en esta casilla el código anterior para que se ajuste al PEP8\n",
        "def convertir_temperatura():\n",
        "    \"\"\"\n",
        "    Esta función convierte una temperatura de Celsius a Fahrenheit y viceversa.\n",
        "\n",
        "    Args:\n",
        "        No hay argumentos. La función internamente pide los datos necesarios.\n",
        "\n",
        "    Returns:\n",
        "        None: Imprime la temperatura convertida a la escala indicada.\n",
        "    \"\"\"\n",
        "\n",
        "    # Se solicita al usuario que ingrese la temperatura.\n",
        "    temp = input(\"Ingrese la temperatura (ej. 32C o 90F): \")\n",
        "\n",
        "    # Se obtienen las unidades de la temperatura.\n",
        "    escala = temp[-1]\n",
        "\n",
        "    # Se obtiene la magnitud de la temperatura sin las unidades.\n",
        "    temperatura = float(temp[:-1])\n",
        "\n",
        "    # Se convierte la temperatura a Fahrenheit si la escala es Celsius.\n",
        "    if escala == \"C\":\n",
        "        resultado = (temperatura * 9 / 5) + 32\n",
        "        print(\"La temperatura en Fahrenheit es:\", resultado)\n",
        "\n",
        "    # Se convierte la temperatura a Celsius si la escala es Fahrenheit.\n",
        "    elif escala == \"F\":\n",
        "        resultado = (temperatura - 32) * 5 / 9\n",
        "        print(\"La temperatura en Celsius es:\", resultado)\n",
        "\n",
        "    # Se imprime un mensaje de error si la escala no es válida.\n",
        "    else:\n",
        "        print(\"Por favor, ingrese una temperatura válida.\")\n",
        "\n",
        "\n",
        "# Se llama a la función para convertir la temperatura.\n",
        "convertir_temperatura()"
      ],
      "metadata": {
        "id": "bdS-Re69K4Gr",
        "colab": {
          "base_uri": "https://localhost:8080/"
        },
        "outputId": "5c78a6f0-d5b7-435f-dac6-8b46f7ed8625"
      },
      "execution_count": 12,
      "outputs": [
        {
          "output_type": "stream",
          "name": "stdout",
          "text": [
            "Ingrese la temperatura (ej. 32C o 90F): 89.6F\n",
            "La temperatura en Celsius es: 32.0\n"
          ]
        }
      ]
    },
    {
      "cell_type": "markdown",
      "source": [
        "## Ejercicio 04"
      ],
      "metadata": {
        "id": "4852xGV9QBaQ"
      }
    },
    {
      "cell_type": "code",
      "source": [
        "import random\n",
        "\n",
        "def adivina_el_numero():\n",
        "    numero_aleatorio=random.randint(1,100)\n",
        "    adivinado=False\n",
        "    intentos=0\n",
        "    mientras no adivinado:\n",
        "        intento=int(input(\"Adivina el número: \"))\n",
        "        si intento<numero_aleatorio:\n",
        "            imprime(\"El número es más grande.\")\n",
        "        si no, si intento>numero_aleatorio:\n",
        "            imprime(\"El número es más pequeño.\")\n",
        "        demás:\n",
        "            imprime(\"¡Felicidades! Adivinaste el número en\", intentos, \"intentos.\")\n",
        "            adivinado=True\n",
        "        intentos+=1\n",
        "\n",
        "adivina_el_numero()"
      ],
      "metadata": {
        "id": "xNrof7kmQUED"
      },
      "execution_count": null,
      "outputs": []
    },
    {
      "cell_type": "code",
      "source": [
        "# Modifique en esta casilla el código anterior para que se ajuste al PEP8\n",
        "import random\n",
        "\n",
        "\n",
        "def adivinar_numero():\n",
        "    \"\"\"\n",
        "    Esta función juega a la adivinanza de números con el usuario.\n",
        "\n",
        "    Args:\n",
        "        No hay argumentos.\n",
        "\n",
        "    Returns:\n",
        "        None: Imprime mensajes al usuario para que adivine un número aleatorio.\n",
        "    \"\"\"\n",
        "\n",
        "    # Se genera un número aleatorio entre 1 y 100.\n",
        "    numero_aleatorio = random.randint(1, 100)\n",
        "\n",
        "    # Se inicializa una variable para indicar si el usuario ha adivinado el número.\n",
        "    adivinado = False\n",
        "\n",
        "    # Se inicializa una variable para contar el número de intentos.\n",
        "    intentos = 0\n",
        "\n",
        "    # Bucle que se ejecuta hasta que el usuario adivine el número.\n",
        "    while not adivinado:\n",
        "        # Se solicita al usuario que ingrese un número.\n",
        "        intento = int(input(\"Adivina el número: \"))\n",
        "\n",
        "        # Se compara el número ingresado con el número aleatorio.\n",
        "        if intento < numero_aleatorio:\n",
        "            print(\"El número es más grande.\")\n",
        "        elif intento > numero_aleatorio:\n",
        "            print(\"El número es más pequeño.\")\n",
        "        else:\n",
        "            # Se imprime un mensaje de felicitación al usuario.\n",
        "            print(\"¡Felicidades! Adivinaste el número en\", intentos, \"intentos.\")\n",
        "\n",
        "            # Se indica que el usuario ha adivinado el número.\n",
        "            adivinado = True\n",
        "\n",
        "        # Se aumenta el número de intentos.\n",
        "        intentos += 1\n",
        "\n",
        "\n",
        "# Se llama a la función para jugar el juego.\n",
        "adivinar_numero()"
      ],
      "metadata": {
        "id": "IUhNlDkgK5l_",
        "colab": {
          "base_uri": "https://localhost:8080/"
        },
        "outputId": "aad2290a-a305-4a2c-8d3b-264136cd3833"
      },
      "execution_count": 13,
      "outputs": [
        {
          "output_type": "stream",
          "name": "stdout",
          "text": [
            "Adivina el número: 50\n",
            "El número es más grande.\n",
            "Adivina el número: 75\n",
            "El número es más pequeño.\n",
            "Adivina el número: 68\n",
            "El número es más pequeño.\n",
            "Adivina el número: 59\n",
            "El número es más pequeño.\n",
            "Adivina el número: 55\n",
            "El número es más grande.\n",
            "Adivina el número: 57\n",
            "El número es más grande.\n",
            "Adivina el número: 58\n",
            "¡Felicidades! Adivinaste el número en 6 intentos.\n"
          ]
        }
      ]
    },
    {
      "cell_type": "markdown",
      "source": [
        "## Ejercicio 05"
      ],
      "metadata": {
        "id": "ztj4sS1hQDtc"
      }
    },
    {
      "cell_type": "code",
      "source": [
        "import random\n",
        "import string\n",
        "\n",
        "def generar_contraseña(longitud):\n",
        "    caracteres=string.ascii_letters+string.digits+string.punctuation\n",
        "    contraseña=''.join(random.choice(caracteres) para i en rango(longitud))\n",
        "    imprime(\"La contraseña generada es: \", contraseña)\n",
        "\n",
        "longitud=int(input(\"Ingrese la longitud de la contraseña: \"))\n",
        "generar_contraseña(longitud)"
      ],
      "metadata": {
        "id": "jg0TczRIQVsk"
      },
      "execution_count": null,
      "outputs": []
    },
    {
      "cell_type": "code",
      "source": [
        "# Modifique en esta casilla el código anterior para que se ajuste al PEP8\n",
        "import random\n",
        "import string\n",
        "\n",
        "\n",
        "def generar_contraseña(longitud):\n",
        "    \"\"\"\n",
        "    Esta función genera una contraseña aleatoria de una longitud específica.\n",
        "\n",
        "    Args:\n",
        "        longitud (int): La longitud de la contraseña a generar.\n",
        "\n",
        "    Returns:\n",
        "        None: Imprime la contraseña generada.\n",
        "    \"\"\"\n",
        "\n",
        "    # Se define la cadena de caracteres que se pueden usar en la contraseña.\n",
        "    caracteres = string.ascii_letters + string.digits + string.punctuation\n",
        "\n",
        "    # Se genera una lista de caracteres aleatorios de la longitud especificada.\n",
        "    contraseña = \"\".join(random.choice(caracteres) for i in range(longitud))\n",
        "\n",
        "    # Se imprime la contraseña generada.\n",
        "    print(\"La contraseña generada es:\", contraseña)\n",
        "\n",
        "\n",
        "# Se solicita al usuario que ingrese la longitud de la contraseña.\n",
        "longitud = int(input(\"Ingrese la longitud de la contraseña: \"))\n",
        "\n",
        "# Se llama a la función para generar la contraseña.\n",
        "generar_contraseña(longitud)"
      ],
      "metadata": {
        "id": "GA_5dcsnK7Hr",
        "colab": {
          "base_uri": "https://localhost:8080/"
        },
        "outputId": "c0444bbc-65b8-4253-dbdd-3b1b26057fd1"
      },
      "execution_count": 19,
      "outputs": [
        {
          "output_type": "stream",
          "name": "stdout",
          "text": [
            "Ingrese la longitud de la contraseña: 12\n",
            "La contraseña generada es: eVc1cS~dq,#w\n"
          ]
        }
      ]
    },
    {
      "cell_type": "markdown",
      "source": [
        "## Ejercicio 06"
      ],
      "metadata": {
        "id": "hATd-LMUQGP_"
      }
    },
    {
      "cell_type": "code",
      "source": [
        "def calcular_interes_compuesto():\n",
        "    principal=float(input(\"Ingrese el monto principal: \"))\n",
        "    tasa=float(input(\"Ingrese la tasa de interés anual (en porcentaje): \"))\n",
        "    años=int(input(\"Ingrese el número de años: \"))\n",
        "    resultado=principal*(1+tasa/100)**años\n",
        "    imprime(\"El valor futuro de la inversión es: \", resultado)\n",
        "\n",
        "calcular_interes_compuesto()"
      ],
      "metadata": {
        "id": "KWFwRqE7QX0H"
      },
      "execution_count": null,
      "outputs": []
    },
    {
      "cell_type": "code",
      "source": [
        "# Modifique en esta casilla el código anterior para que se ajuste al PEP8\n",
        "def calcular_interes_compuesto():\n",
        "    \"\"\"\n",
        "    Esta función calcula el valor futuro de una inversión utilizando la fórmula\n",
        "    del interés compuesto. Cf = Ci(1+i)**t\n",
        "\n",
        "    Args:\n",
        "        No hay argumentos.\n",
        "\n",
        "    Returns:\n",
        "        None: Imprime el valor futuro de la inversión.\n",
        "    \"\"\"\n",
        "\n",
        "    # Se solicita al usuario que ingrese el monto principal.\n",
        "    principal = float(input(\"Ingrese el monto principal: \"))\n",
        "\n",
        "    # Se solicita al usuario que ingrese la tasa de interés anual.\n",
        "    tasa = float(input(\"Ingrese la tasa de interés anual (en porcentaje): \"))\n",
        "\n",
        "    # Se solicita al usuario que ingrese el número de años.\n",
        "    años = int(input(\"Ingrese el número de años: \"))\n",
        "\n",
        "    # Se calcula el valor futuro de la inversión.\n",
        "    resultado = principal * (1 + tasa / 100) ** años\n",
        "\n",
        "    # Se imprime el valor futuro de la inversión.\n",
        "    print(\"El valor futuro de la inversión es:\", resultado)\n",
        "\n",
        "\n",
        "# Se llama a la función para calcular el valor futuro de la inversión.\n",
        "calcular_interes_compuesto()"
      ],
      "metadata": {
        "id": "2JuhtZdmK8tO",
        "colab": {
          "base_uri": "https://localhost:8080/"
        },
        "outputId": "dd6bc015-9ec9-4629-ce61-e5836597464c"
      },
      "execution_count": 22,
      "outputs": [
        {
          "output_type": "stream",
          "name": "stdout",
          "text": [
            "Ingrese el monto principal: 1\n",
            "Ingrese la tasa de interés anual (en porcentaje): 100\n",
            "Ingrese el número de años: 1\n",
            "El valor futuro de la inversión es: 2.0\n"
          ]
        }
      ]
    },
    {
      "cell_type": "markdown",
      "source": [
        "## Ejercicio 07"
      ],
      "metadata": {
        "id": "ZNOMGOKfQHkc"
      }
    },
    {
      "cell_type": "code",
      "source": [
        "def ordenar_lista():\n",
        "    lista=[int(x) para x en input(\"Ingrese los números separados por comas: \").split(\",\")]\n",
        "    orden=input(\"¿Ordenar en orden ascendente (a) o descendente (d)? \")\n",
        "    si orden=='a':\n",
        "        lista.sort()\n",
        "    demás si orden=='d':\n",
        "        lista.sort(reverse=Verdadero)\n",
        "    imprime(\"La lista ordenada es: \", lista)\n",
        "\n",
        "ordenar_lista()"
      ],
      "metadata": {
        "id": "EFyBSu0OQZ5X"
      },
      "execution_count": null,
      "outputs": []
    },
    {
      "cell_type": "code",
      "source": [
        "# Modifique en esta casilla el código anterior para que se ajuste al PEP8\n",
        "def ordenar_lista():\n",
        "    \"\"\"\n",
        "    Esta función ordena una lista de números en orden ascendente o descendente.\n",
        "\n",
        "    Args:\n",
        "        No hay argumentos.\n",
        "\n",
        "    Returns:\n",
        "        None: Imprime la lista ordenada.\n",
        "    \"\"\"\n",
        "\n",
        "    # Se solicita al usuario que ingrese los números separados por comas.\n",
        "    numeros = input(\"Ingrese los números separados por comas: \").split(\",\")\n",
        "    lista = [int(x) for x in numeros]\n",
        "\n",
        "    # Se solicita al usuario si desea ordenar en orden ascendente o descendente.\n",
        "    orden = input(\"¿Ordenar en orden ascendente (a) o descendente (d)? \")\n",
        "\n",
        "    # Se ordena la lista en orden ascendente.\n",
        "    if orden == \"a\":\n",
        "        lista.sort()\n",
        "\n",
        "    # Se ordena la lista en orden descendente.\n",
        "    elif orden == \"d\":\n",
        "        lista.sort(reverse=True)\n",
        "\n",
        "    # Se imprime la lista ordenada.\n",
        "    print(\"La lista ordenada es:\", lista)\n",
        "\n",
        "\n",
        "# Se llama a la función para ordenar la lista.\n",
        "ordenar_lista()"
      ],
      "metadata": {
        "id": "RXmZuoc_K-Uw",
        "colab": {
          "base_uri": "https://localhost:8080/"
        },
        "outputId": "2d894c6a-f837-407e-a77d-114e8dae8b38"
      },
      "execution_count": 24,
      "outputs": [
        {
          "output_type": "stream",
          "name": "stdout",
          "text": [
            "Ingrese los números separados por comas: 123,123,123,5,54,7,0\n",
            "¿Ordenar en orden ascendente (a) o descendente (d)? d\n",
            "La lista ordenada es: [123, 123, 123, 54, 7, 5, 0]\n"
          ]
        }
      ]
    },
    {
      "cell_type": "markdown",
      "source": [
        "## Ejercicio 08"
      ],
      "metadata": {
        "id": "k1SR_Y-RQJC1"
      }
    },
    {
      "cell_type": "code",
      "source": [
        "def calcular_imc():\n",
        "    peso=float(input(\"Ingrese su peso en kilogramos: \"))\n",
        "    altura=float(input(\"Ingrese su altura en metros: \"))\n",
        "    imc=peso/(altura**2)\n",
        "    imprime(\"Su IMC es: \", imc)\n",
        "    si imc<18.5:\n",
        "        imprime(\"Usted está bajo peso.\")\n",
        "    demás si 18.5<=imc<25:\n",
        "        imprime(\"Usted tiene un peso normal.\")\n",
        "    demás si 25<=imc<30:\n",
        "        imprime(\"Usted tiene sobrepeso.\")\n",
        "    demás:\n",
        "        imprime(\"Usted tiene obesidad.\")\n",
        "\n",
        "calcular_imc()"
      ],
      "metadata": {
        "id": "1Wky-Hp7Qa1P"
      },
      "execution_count": null,
      "outputs": []
    },
    {
      "cell_type": "code",
      "source": [
        "# Modifique en esta casilla el código anterior para que se ajuste al PEP8\n",
        "def calcular_imc():\n",
        "    \"\"\"\n",
        "    Esta función calcula el índice de masa corporal (IMC) de una persona y\n",
        "    muestra un mensaje de acuerdo a su resultado.\n",
        "\n",
        "    Args:\n",
        "        No hay argumentos.\n",
        "\n",
        "    Returns:\n",
        "        None: Imprime el IMC y un mensaje de acuerdo al resultado.\n",
        "    \"\"\"\n",
        "\n",
        "    # Se solicita al usuario que ingrese su peso en kilogramos.\n",
        "    peso = float(input(\"Ingrese su peso en kilogramos: \"))\n",
        "\n",
        "    # Se solicita al usuario que ingrese su altura en metros.\n",
        "    altura = float(input(\"Ingrese su altura en metros: \"))\n",
        "\n",
        "    # Se calcula el IMC.\n",
        "    imc = peso / (altura**2)\n",
        "\n",
        "    # Se imprime el IMC.\n",
        "    print(\"Su IMC es:\", imc)\n",
        "\n",
        "    # Se muestra un mensaje de acuerdo al resultado del IMC.\n",
        "    if imc < 18.5:\n",
        "        print(\"Usted está bajo peso.\")\n",
        "    elif 18.5 <= imc and imc < 25:\n",
        "        print(\"Usted tiene un peso normal.\")\n",
        "    elif 25 <= imc and imc < 30:\n",
        "        print(\"Usted tiene sobrepeso.\")\n",
        "    else:\n",
        "        print(\"Usted tiene obesidad.\")\n",
        "\n",
        "\n",
        "# Se llama a la función para calcular el IMC.\n",
        "calcular_imc()"
      ],
      "metadata": {
        "id": "-yFIOR5mLAal",
        "colab": {
          "base_uri": "https://localhost:8080/"
        },
        "outputId": "cf0e15a0-fd71-456a-ab15-d0440b872378"
      },
      "execution_count": 26,
      "outputs": [
        {
          "output_type": "stream",
          "name": "stdout",
          "text": [
            "Ingrese su peso en kilogramos: 155\n",
            "Ingrese su altura en metros: 2\n",
            "Su IMC es: 38.75\n",
            "Usted tiene obesidad.\n"
          ]
        }
      ]
    },
    {
      "cell_type": "markdown",
      "source": [
        "## Ejercicio 09"
      ],
      "metadata": {
        "id": "VlxrpT47QKdX"
      }
    },
    {
      "cell_type": "code",
      "source": [
        "def generar_patron(filas):\n",
        "    para i en rango(1,filas+1):\n",
        "        imprime(\"*\"*i)\n",
        "\n",
        "filas=int(input(\"Ingrese el número de filas del patrón: \"))\n",
        "generar_patron(filas)"
      ],
      "metadata": {
        "id": "lwx5c9ecQeTD"
      },
      "execution_count": null,
      "outputs": []
    },
    {
      "cell_type": "code",
      "source": [
        "# Modifique en esta casilla el código anterior para que se ajuste al PEP8\n",
        "def generar_patron(filas):\n",
        "    \"\"\"\n",
        "    Esta función genera un patrón de asteriscos con un número determinado de\n",
        "    filas.\n",
        "\n",
        "    Args:\n",
        "        filas: El número de filas del patrón.\n",
        "\n",
        "    Returns:\n",
        "        None: Imprime el patrón de asteriscos.\n",
        "    \"\"\"\n",
        "\n",
        "    # Se recorre el numero de fila i del patrón.\n",
        "    for i in range(1, filas + 1):\n",
        "        # Se imprime la fila actual con el número adecuado de asteriscos.\n",
        "        print(\"*\" * i)\n",
        "\n",
        "\n",
        "# Se solicita al usuario que ingrese el número de filas del patrón.\n",
        "filas = int(input(\"Ingrese el número de filas del patrón: \"))\n",
        "\n",
        "# Se llama a la función para generar el patrón.\n",
        "generar_patron(filas)"
      ],
      "metadata": {
        "id": "3tJqbO68LB5C",
        "colab": {
          "base_uri": "https://localhost:8080/"
        },
        "outputId": "52cb7016-62a4-4031-967e-fb42d318542f"
      },
      "execution_count": 28,
      "outputs": [
        {
          "output_type": "stream",
          "name": "stdout",
          "text": [
            "Ingrese el número de filas del patrón: 11\n",
            "*\n",
            "**\n",
            "***\n",
            "****\n",
            "*****\n",
            "******\n",
            "*******\n",
            "********\n",
            "*********\n",
            "**********\n",
            "***********\n"
          ]
        }
      ]
    }
  ]
}